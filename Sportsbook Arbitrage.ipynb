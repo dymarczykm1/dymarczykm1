{
 "cells": [
  {
   "cell_type": "code",
   "execution_count": 1,
   "metadata": {},
   "outputs": [],
   "source": [
    "import numpy as np\n",
    "import pandas as pd\n",
    "import seaborn as sns\n",
    "import matplotlib.pyplot as plt"
   ]
  },
  {
   "cell_type": "code",
   "execution_count": 9,
   "metadata": {},
   "outputs": [
    {
     "name": "stdout",
     "output_type": "stream",
     "text": [
      "FanDuel has Team A with an implied Vegas win probability of 49.39759036144578\n",
      "FanDuel has Team B with an implied Vegas win probability of 50.602409638554214\n",
      "Total Margin is 100.0\n",
      " \n",
      "DraftKings has Team A with an implied Vegas win probability of 51.8213866039953\n",
      "DraftKings has Team B with an implied Vegas win probability of 48.1786133960047\n",
      "Total Margin is 100.0\n",
      " \n"
     ]
    }
   ],
   "source": [
    "# Arbitrage betting example.\n",
    "# These are implied odds which reprsent the odds of each event ocurring. Vegas is very good at determining this.\n",
    "\n",
    "# Bookmaker A odds\n",
    "# 1.30 (70.86%)   3.70 (29.14%)  100%\n",
    "\n",
    "# Bookmaker B odds\n",
    "# 1.40 (71.43%)  2.98 (33.56%)   100% \n",
    "\n",
    "def getOdds(a):\n",
    "\n",
    "    odds = 0\n",
    "    if a < 0:\n",
    "        odds = (-a)/(-a + 100)\n",
    "    else:\n",
    "        odds = 100/(100+a)\n",
    "\n",
    "    return odds\n",
    "\n",
    "def impliedOddsA(a, b):\n",
    "\n",
    "    oddsA = getOdds(a)\n",
    "    oddsB = getOdds(b)\n",
    "\n",
    "    impliedA = oddsA/(oddsA + oddsB)*100\n",
    "    impliedB = oddsB/(oddsA + oddsB)*100\n",
    "\n",
    "    margin = impliedA + impliedB\n",
    "\n",
    "    print(\"FanDuel has Team A with an implied Vegas win probability of \" + str(impliedA))\n",
    "    print(\"FanDuel has Team B with an implied Vegas win probability of \" + str(impliedB))\n",
    "    print(\"Total Margin is \" + str(margin))\n",
    "    print(\" \")\n",
    "\n",
    "odds = impliedOddsA(110,105)\n",
    "\n",
    "def impliedOddsB(a, b):\n",
    "\n",
    "    oddsA = getOdds(a)\n",
    "    oddsB = getOdds(b)\n",
    "\n",
    "    impliedA = oddsA/(oddsA + oddsB)*100\n",
    "    impliedB = oddsB/(oddsA + oddsB)*100\n",
    "\n",
    "    margin = impliedA + impliedB\n",
    "\n",
    "    print(\"DraftKings has Team A with an implied Vegas win probability of \" + str(impliedA))\n",
    "    print(\"DraftKings has Team B with an implied Vegas win probability of \" + str(impliedB))\n",
    "    print(\"Total Margin is \" + str(margin))\n",
    "    print(\" \")\n",
    "\n",
    "\n",
    "odds = impliedOddsB(-105,110)"
   ]
  },
  {
   "cell_type": "code",
   "execution_count": 11,
   "metadata": {},
   "outputs": [
    {
     "name": "stdout",
     "output_type": "stream",
     "text": [
      "Betting Team A with FanDuel and Team B with DraftKings gives a combined market margin of 96.3572267920094\n",
      "Betting Team B with FanDuel and Team A with DraftKings gives a combined market margin of 103.6427732079906\n",
      " \n",
      "Arbitrage 1 is 48.1786133960047 / 48.1786133960047\n",
      "Arbitrage 2 is 51.8213866039953 / 51.8213866039953\n"
     ]
    }
   ],
   "source": [
    "# Now let's see if we have an arbitrage opportunity between the exchanges\n",
    "\n",
    "def arbitrage(a,b,c,d):\n",
    "\n",
    "    oddsA = getOdds(a)\n",
    "    oddsB = getOdds(b)\n",
    "\n",
    "    oddsC = getOdds(c)\n",
    "    oddsD = getOdds(d)\n",
    "\n",
    "    impliedA = oddsA/(oddsA + oddsB)*100\n",
    "    impliedB = oddsB/(oddsA + oddsB)*100\n",
    "\n",
    "    impliedC = oddsC/(oddsC + oddsD)*100\n",
    "    impliedD = oddsD/(oddsC + oddsD)*100\n",
    "\n",
    "    arb1 = impliedA + impliedD\n",
    "    arb2 = impliedB + impliedC\n",
    "\n",
    "    print(\"Betting Team A with FanDuel and Team B with DraftKings gives a combined market margin of \" + str(arb1))\n",
    "    print(\"Betting Team B with FanDuel and Team A with DraftKings gives a combined market margin of \" + str(arb2))\n",
    "    print(\" \")\n",
    "    print(\"Arbitrage 1 is \" + str(impliedA) +\" / \" + str(impliedD))\n",
    "    print(\"Arbitrage 2 is \" + str(impliedB) +\" / \" + str(impliedC))\n",
    "\n",
    "odds = arbitrage(110,-105,-105,110)"
   ]
  },
  {
   "cell_type": "code",
   "execution_count": 16,
   "metadata": {},
   "outputs": [
    {
     "name": "stdout",
     "output_type": "stream",
     "text": [
      "Bet 1 size is $50.0\n",
      "Bet 2 size is $50.0\n",
      "Total profit is $7.38095238095238\n"
     ]
    }
   ],
   "source": [
    "# As we can see the combined market margin is lower. Let's see how much we need to stake to arbitrage this.\n",
    "# I know this isn't efficient but I am too lazy to change it. Can run the same loops as the odds function for the profit calc.\n",
    "\n",
    "def BetSize(a):\n",
    "\n",
    "    bet = a\n",
    "    teamA = 48.18\n",
    "    teamB = 48.18\n",
    "    margin = 96.36\n",
    "    line1 = 105\n",
    "    line2 = 110\n",
    "    \n",
    "    if bet >= 0:\n",
    "        bet1 = (bet*teamA)/margin\n",
    "        bet2 = (bet*teamB)/margin\n",
    "    else:\n",
    "        print(\"Something is wrong\")\n",
    "\n",
    "    profit1 = (bet1/line1)*100 + bet1\n",
    "    profit2 = (bet2*line2)/100 + bet2\n",
    "    final = abs(profit1 - profit2)\n",
    "\n",
    "    print(\"Bet 1 size is $\"  + str(bet1))\n",
    "    print(\"Bet 2 size is $\" + str(bet2))\n",
    "    print(\"Total profit is $\" + str(final))\n",
    "\n",
    "bets = BetSize(100)"
   ]
  },
  {
   "cell_type": "code",
   "execution_count": null,
   "metadata": {},
   "outputs": [],
   "source": []
  }
 ],
 "metadata": {
  "interpreter": {
   "hash": "08ae18ec6a20a8e459f7df5358ce2bac14c4693a6df65e90faad12b82fe344ec"
  },
  "kernelspec": {
   "display_name": "Python 3.8.12 64-bit (conda)",
   "language": "python",
   "name": "python3"
  },
  "language_info": {
   "codemirror_mode": {
    "name": "ipython",
    "version": 3
   },
   "file_extension": ".py",
   "mimetype": "text/x-python",
   "name": "python",
   "nbconvert_exporter": "python",
   "pygments_lexer": "ipython3",
   "version": "3.8.12"
  },
  "orig_nbformat": 4
 },
 "nbformat": 4,
 "nbformat_minor": 2
}
