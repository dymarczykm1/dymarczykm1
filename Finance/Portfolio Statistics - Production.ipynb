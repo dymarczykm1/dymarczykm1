{
 "cells": [
  {
   "cell_type": "code",
   "execution_count": 1,
   "id": "08f25841",
   "metadata": {},
   "outputs": [
    {
     "name": "stdout",
     "output_type": "stream",
     "text": [
      "Duration of Index: 3.725\n",
      "Portfolio Duration: 3.392\n",
      "Difference to Index -0.333\n",
      "\n",
      "Portfolio Convexity -0.625\n",
      "Index Convexity -1.736\n",
      "Difference to Index 1.111\n",
      "\n",
      "Portfolio YTW 2.318\n",
      "Index YTW 1.835\n",
      "Difference to Index 0.483\n",
      "\n",
      "New Portfolio Duration: 3.387\n",
      "Difference to Index: -0.338\n",
      "\n",
      "  Security   Leg      Par  Duration  B/S Duration  % of Portfolio\n",
      "0   Bond 1   Buy  1202231      5.16      0.005336        0.533573\n",
      "0   Bond 2  Sell  2300708      3.87      0.010211        1.021098\n"
     ]
    }
   ],
   "source": [
    "#Importing pandas for dataframe\n",
    "import pandas as pd\n",
    "\n",
    "#Pulling in portfolio/index data and buy/sell data. Different files to maintain data integrity.\n",
    "df = pd.read_csv(r'C:\\Users\\MADYMA\\Desktop\\Python Files\\HoldingsDetail.csv')\n",
    "df2 = pd.read_csv(r'C:\\Users\\MADYMA\\Desktop\\Python Files\\BondBuy.csv')\n",
    "df3 = pd.read_csv(r'C:\\Users\\MADYMA\\Desktop\\Python Files\\BondSell.csv')\n",
    "\n",
    "#Need to manually input this data\n",
    "index_duration = 3.725\n",
    "index_convexity = -1.736\n",
    "index_ytw = 1.835\n",
    "\n",
    "#Removing column truncation and expanding table\n",
    "pd.set_option('display.max_columns', None)\n",
    "pd.set_option('display.max_colwidth', None)\n",
    "pd.set_option('display.max_rows', None)\n",
    "\n",
    "#Calculating current portfolio duration/convexity/yield from HoldingsDetail\n",
    "weighted_duration = df['Eff Dur']*df['% Port']/100\n",
    "port_duration = weighted_duration.sum()\n",
    "\n",
    "weighted_convexity = df['Convx']*df['% Port']/100\n",
    "port_convexity = weighted_convexity.sum()\n",
    "\n",
    "weighted_ytw = df['YTW']*df['% Port']/100\n",
    "port_ytw = weighted_ytw.sum()\n",
    "\n",
    "#Calculating differences to index\n",
    "convexity_difference = port_convexity - index_convexity\n",
    "ytw_difference = port_ytw - index_ytw\n",
    "duration_difference = port_duration - index_duration\n",
    "\n",
    "#Calculating added/subtracted duration by taking par value and dividing it by the sum of the marketvalue \n",
    "df2['B/S Duration'] =  df2['Par']/df['Market*'].sum()\n",
    "df3['B/S Duration'] =  df3['Par']/df['Market*'].sum()\n",
    "\n",
    "#Calculating total % of the portfolio for securities to be bought/sold\n",
    "df2['% of Portfolio'] = df2['Par']/df['Market*'].sum()*100\n",
    "df3['% of Portfolio'] =  df3['Par']/df['Market*'].sum()*100\n",
    "\n",
    "#Combining both buy and sell data frames together\n",
    "result = df2.append([df3])\n",
    "\n",
    "#Subtracting duration added versus duration sold\n",
    "new_duration = df2['B/S Duration'].sum() - df3['B/S Duration'].sum()\n",
    "\n",
    "#Duration of the portfolio is now current duration and whatever we are adding/subtracting\n",
    "new_portfolio_duration = port_duration + new_duration\n",
    "\n",
    "#What are total duration will be relative to the index after our buys/sells\n",
    "index_difference = new_portfolio_duration - index_duration\n",
    "\n",
    "print('Duration of Index:', index_duration) \n",
    "print('Portfolio Duration:', port_duration.round(3))\n",
    "print('Difference to Index', duration_difference.round(3))\n",
    "print('')\n",
    "print('Portfolio Convexity', port_convexity.round(3))\n",
    "print('Index Convexity', index_convexity)\n",
    "print('Difference to Index', convexity_difference.round(3))\n",
    "print('')\n",
    "print('Portfolio YTW', port_ytw.round(3))\n",
    "print('Index YTW', index_ytw)\n",
    "print('Difference to Index', ytw_difference.round(3))\n",
    "print('')\n",
    "print('New Portfolio Duration:', new_portfolio_duration.round(3))\n",
    "print('Difference to Index:', index_difference.round(3))\n",
    "print('')\n",
    "print(result)"
   ]
  },
  {
   "cell_type": "code",
   "execution_count": 2,
   "id": "020e794c",
   "metadata": {
    "scrolled": true
   },
   "outputs": [],
   "source": [
    "#Used to find a specific bond in the portfolio\n",
    "df_bond = df.loc[df['Cusip'] == '46652MRD0']"
   ]
  }
 ],
 "metadata": {
  "kernelspec": {
   "display_name": "Python 3 (ipykernel)",
   "language": "python",
   "name": "python3"
  },
  "language_info": {
   "codemirror_mode": {
    "name": "ipython",
    "version": 3
   },
   "file_extension": ".py",
   "mimetype": "text/x-python",
   "name": "python",
   "nbconvert_exporter": "python",
   "pygments_lexer": "ipython3",
   "version": "3.9.7"
  }
 },
 "nbformat": 4,
 "nbformat_minor": 5
}
